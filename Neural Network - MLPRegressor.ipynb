{
 "cells": [
  {
   "cell_type": "code",
   "execution_count": 1,
   "metadata": {},
   "outputs": [],
   "source": [
    "## Import Libriaries\n",
    "from sklearn.neural_network import MLPRegressor\n",
    "import numpy as np"
   ]
  },
  {
   "cell_type": "code",
   "execution_count": 15,
   "metadata": {},
   "outputs": [],
   "source": [
    "## Basic Data Array\n",
    "## https://blog.finxter.com/tutorial-how-to-create-your-first-neural-network-in-1-line-of-python-code/\n",
    "## Questionaire data (WEEK, YEARS, BOOKS, PROJECTS, EARN, RATING)\n",
    "Q = [[20,  11,  20,  30,  4000,  3000],\n",
    "     [12,   4,   0,   0, 1000,  1500],\n",
    "     [2,   0,   1,  10,   0,  1400],\n",
    "     [35,   5,  10,  70,  6000,  3800],\n",
    "     [30,   1,   4,  65,   0,  3900],\n",
    "     [35,   1,   0,   0,   0, 100],\n",
    "     [15,   1,   2,  25,   0,  3700],\n",
    "     [40,   3,  -1,  60,  1000,  2000],\n",
    "     [40,   1,   2,  95,   0,  1000],\n",
    "     [10,   0,   0,   0,   0,  1400],\n",
    "     [30,   1,   0,  50,   0,  1700],\n",
    "     [1,   0,   0,  45,   0,  1762],\n",
    "     [10,  32,  10,   5,   0,  2400],\n",
    "     [5,  35,   4,   0, 13000,  3900],\n",
    "     [8,   9,  40,  30,  1000,  2625],\n",
    "     [1,   0,   1,   0,   0,  1900],\n",
    "     [1,  30,  10,   0,  1000,  1900],\n",
    "     [7,  16,   5,   0,   0,  3000]]\n",
    "X = np.array(Q)"
   ]
  },
  {
   "cell_type": "code",
   "execution_count": 3,
   "metadata": {
    "scrolled": true
   },
   "outputs": [
    {
     "name": "stderr",
     "output_type": "stream",
     "text": [
      "C:\\Users\\jwill\\anaconda3\\lib\\site-packages\\sklearn\\neural_network\\_multilayer_perceptron.py:582: ConvergenceWarning: Stochastic Optimizer: Maximum iterations (2000) reached and the optimization hasn't converged yet.\n",
      "  warnings.warn(\n"
     ]
    }
   ],
   "source": [
    "## One-line Neural Network\n",
    "neural_net = MLPRegressor(max_iter=2000).fit(X[:,:-1], X[:,-1])"
   ]
  },
  {
   "cell_type": "code",
   "execution_count": 4,
   "metadata": {},
   "outputs": [
    {
     "name": "stdout",
     "output_type": "stream",
     "text": [
      "[96.64461673]\n"
     ]
    }
   ],
   "source": [
    "## Result from all 0 inputs\n",
    "res = neural_net.predict([[0, 0, 0, 0, 0]])\n",
    "print(res)"
   ]
  },
  {
   "cell_type": "code",
   "execution_count": 5,
   "metadata": {},
   "outputs": [
    {
     "name": "stdout",
     "output_type": "stream",
     "text": [
      "[458.69307597]\n"
     ]
    }
   ],
   "source": [
    "## Result from revised input\n",
    "res = neural_net.predict([[20, 0, 0, 0, 0]])\n",
    "print(res)"
   ]
  },
  {
   "cell_type": "code",
   "execution_count": 6,
   "metadata": {},
   "outputs": [
    {
     "name": "stdout",
     "output_type": "stream",
     "text": [
      "[1941.55180546]\n"
     ]
    }
   ],
   "source": [
    "## Result from another input\n",
    "res = neural_net.predict([[20, 1, 10, 50, 1000]])\n",
    "print(res)"
   ]
  },
  {
   "cell_type": "code",
   "execution_count": 7,
   "metadata": {},
   "outputs": [
    {
     "data": {
      "text/plain": [
       "'C:\\\\Users\\\\jwill\\\\Jupyter Notebooks'"
      ]
     },
     "execution_count": 7,
     "metadata": {},
     "output_type": "execute_result"
    }
   ],
   "source": [
    "## New one with phlebotomy data\n",
    "import os\n",
    "os.getcwd()"
   ]
  },
  {
   "cell_type": "code",
   "execution_count": 8,
   "metadata": {},
   "outputs": [
    {
     "name": "stdout",
     "output_type": "stream",
     "text": [
      "C:\\Users\\jwill\\Documents\\Machine Learning\\Data\n"
     ]
    }
   ],
   "source": [
    "%cd \"C:\\Users\\jwill\\Documents\\Machine Learning\\Data\""
   ]
  },
  {
   "cell_type": "code",
   "execution_count": 9,
   "metadata": {},
   "outputs": [],
   "source": [
    "import pandas as pd\n",
    "Y = pd.read_csv('phlebotomy.csv')"
   ]
  },
  {
   "cell_type": "code",
   "execution_count": 10,
   "metadata": {},
   "outputs": [
    {
     "data": {
      "text/html": [
       "<div>\n",
       "<style scoped>\n",
       "    .dataframe tbody tr th:only-of-type {\n",
       "        vertical-align: middle;\n",
       "    }\n",
       "\n",
       "    .dataframe tbody tr th {\n",
       "        vertical-align: top;\n",
       "    }\n",
       "\n",
       "    .dataframe thead th {\n",
       "        text-align: right;\n",
       "    }\n",
       "</style>\n",
       "<table border=\"1\" class=\"dataframe\">\n",
       "  <thead>\n",
       "    <tr style=\"text-align: right;\">\n",
       "      <th></th>\n",
       "      <th>SUV</th>\n",
       "      <th>Age</th>\n",
       "      <th>TS</th>\n",
       "    </tr>\n",
       "  </thead>\n",
       "  <tbody>\n",
       "    <tr>\n",
       "      <th>0</th>\n",
       "      <td>5</td>\n",
       "      <td>48</td>\n",
       "      <td>7.8</td>\n",
       "    </tr>\n",
       "    <tr>\n",
       "      <th>1</th>\n",
       "      <td>15</td>\n",
       "      <td>56</td>\n",
       "      <td>10.9</td>\n",
       "    </tr>\n",
       "    <tr>\n",
       "      <th>2</th>\n",
       "      <td>20</td>\n",
       "      <td>61</td>\n",
       "      <td>20.9</td>\n",
       "    </tr>\n",
       "    <tr>\n",
       "      <th>3</th>\n",
       "      <td>25</td>\n",
       "      <td>41</td>\n",
       "      <td>22.5</td>\n",
       "    </tr>\n",
       "    <tr>\n",
       "      <th>4</th>\n",
       "      <td>30</td>\n",
       "      <td>34</td>\n",
       "      <td>22.3</td>\n",
       "    </tr>\n",
       "    <tr>\n",
       "      <th>5</th>\n",
       "      <td>30</td>\n",
       "      <td>48</td>\n",
       "      <td>34.4</td>\n",
       "    </tr>\n",
       "    <tr>\n",
       "      <th>6</th>\n",
       "      <td>30</td>\n",
       "      <td>41</td>\n",
       "      <td>19.2</td>\n",
       "    </tr>\n",
       "    <tr>\n",
       "      <th>7</th>\n",
       "      <td>35</td>\n",
       "      <td>41</td>\n",
       "      <td>37.4</td>\n",
       "    </tr>\n",
       "    <tr>\n",
       "      <th>8</th>\n",
       "      <td>40</td>\n",
       "      <td>48</td>\n",
       "      <td>46.6</td>\n",
       "    </tr>\n",
       "    <tr>\n",
       "      <th>9</th>\n",
       "      <td>40</td>\n",
       "      <td>30</td>\n",
       "      <td>47.0</td>\n",
       "    </tr>\n",
       "    <tr>\n",
       "      <th>10</th>\n",
       "      <td>50</td>\n",
       "      <td>23</td>\n",
       "      <td>63.3</td>\n",
       "    </tr>\n",
       "    <tr>\n",
       "      <th>11</th>\n",
       "      <td>50</td>\n",
       "      <td>25</td>\n",
       "      <td>63.6</td>\n",
       "    </tr>\n",
       "    <tr>\n",
       "      <th>12</th>\n",
       "      <td>55</td>\n",
       "      <td>21</td>\n",
       "      <td>56.6</td>\n",
       "    </tr>\n",
       "    <tr>\n",
       "      <th>13</th>\n",
       "      <td>65</td>\n",
       "      <td>21</td>\n",
       "      <td>79.6</td>\n",
       "    </tr>\n",
       "    <tr>\n",
       "      <th>14</th>\n",
       "      <td>65</td>\n",
       "      <td>30</td>\n",
       "      <td>57.3</td>\n",
       "    </tr>\n",
       "    <tr>\n",
       "      <th>15</th>\n",
       "      <td>65</td>\n",
       "      <td>19</td>\n",
       "      <td>82.7</td>\n",
       "    </tr>\n",
       "    <tr>\n",
       "      <th>16</th>\n",
       "      <td>70</td>\n",
       "      <td>28</td>\n",
       "      <td>71.4</td>\n",
       "    </tr>\n",
       "    <tr>\n",
       "      <th>17</th>\n",
       "      <td>70</td>\n",
       "      <td>31</td>\n",
       "      <td>58.4</td>\n",
       "    </tr>\n",
       "    <tr>\n",
       "      <th>18</th>\n",
       "      <td>70</td>\n",
       "      <td>36</td>\n",
       "      <td>70.0</td>\n",
       "    </tr>\n",
       "    <tr>\n",
       "      <th>19</th>\n",
       "      <td>70</td>\n",
       "      <td>28</td>\n",
       "      <td>67.1</td>\n",
       "    </tr>\n",
       "    <tr>\n",
       "      <th>20</th>\n",
       "      <td>90</td>\n",
       "      <td>27</td>\n",
       "      <td>97.5</td>\n",
       "    </tr>\n",
       "  </tbody>\n",
       "</table>\n",
       "</div>"
      ],
      "text/plain": [
       "    SUV  Age    TS\n",
       "0     5   48   7.8\n",
       "1    15   56  10.9\n",
       "2    20   61  20.9\n",
       "3    25   41  22.5\n",
       "4    30   34  22.3\n",
       "5    30   48  34.4\n",
       "6    30   41  19.2\n",
       "7    35   41  37.4\n",
       "8    40   48  46.6\n",
       "9    40   30  47.0\n",
       "10   50   23  63.3\n",
       "11   50   25  63.6\n",
       "12   55   21  56.6\n",
       "13   65   21  79.6\n",
       "14   65   30  57.3\n",
       "15   65   19  82.7\n",
       "16   70   28  71.4\n",
       "17   70   31  58.4\n",
       "18   70   36  70.0\n",
       "19   70   28  67.1\n",
       "20   90   27  97.5"
      ]
     },
     "execution_count": 10,
     "metadata": {},
     "output_type": "execute_result"
    }
   ],
   "source": [
    "Y"
   ]
  },
  {
   "cell_type": "code",
   "execution_count": 16,
   "metadata": {},
   "outputs": [
    {
     "data": {
      "text/plain": [
       "[[20, 11, 20, 30, 4000, 3000],\n",
       " [12, 4, 0, 0, 1000, 1500],\n",
       " [2, 0, 1, 10, 0, 1400],\n",
       " [35, 5, 10, 70, 6000, 3800],\n",
       " [30, 1, 4, 65, 0, 3900],\n",
       " [35, 1, 0, 0, 0, 100],\n",
       " [15, 1, 2, 25, 0, 3700],\n",
       " [40, 3, -1, 60, 1000, 2000],\n",
       " [40, 1, 2, 95, 0, 1000],\n",
       " [10, 0, 0, 0, 0, 1400],\n",
       " [30, 1, 0, 50, 0, 1700],\n",
       " [1, 0, 0, 45, 0, 1762],\n",
       " [10, 32, 10, 5, 0, 2400],\n",
       " [5, 35, 4, 0, 13000, 3900],\n",
       " [8, 9, 40, 30, 1000, 2625],\n",
       " [1, 0, 1, 0, 0, 1900],\n",
       " [1, 30, 10, 0, 1000, 1900],\n",
       " [7, 16, 5, 0, 0, 3000]]"
      ]
     },
     "execution_count": 16,
     "metadata": {},
     "output_type": "execute_result"
    }
   ],
   "source": [
    "Q"
   ]
  },
  {
   "cell_type": "code",
   "execution_count": 27,
   "metadata": {},
   "outputs": [
    {
     "name": "stdout",
     "output_type": "stream",
     "text": [
      "[[ 5.  48.   7.8]\n",
      " [15.  56.  10.9]\n",
      " [20.  61.  20.9]\n",
      " [25.  41.  22.5]\n",
      " [30.  34.  22.3]\n",
      " [30.  48.  34.4]\n",
      " [30.  41.  19.2]\n",
      " [35.  41.  37.4]\n",
      " [40.  48.  46.6]\n",
      " [40.  30.  47. ]\n",
      " [50.  23.  63.3]\n",
      " [50.  25.  63.6]\n",
      " [55.  21.  56.6]\n",
      " [65.  21.  79.6]\n",
      " [65.  30.  57.3]\n",
      " [65.  19.  82.7]\n",
      " [70.  28.  71.4]\n",
      " [70.  31.  58.4]\n",
      " [70.  36.  70. ]\n",
      " [70.  28.  67.1]\n",
      " [90.  27.  97.5]]\n"
     ]
    }
   ],
   "source": [
    "## convert csv file to array\n",
    "import numpy as np\n",
    "data = np.genfromtxt('phlebotomy.csv', delimiter = ',', skip_header=1)\n",
    "print (data)"
   ]
  },
  {
   "cell_type": "code",
   "execution_count": 28,
   "metadata": {},
   "outputs": [
    {
     "name": "stderr",
     "output_type": "stream",
     "text": [
      "C:\\Users\\jwill\\anaconda3\\lib\\site-packages\\sklearn\\neural_network\\_multilayer_perceptron.py:582: ConvergenceWarning: Stochastic Optimizer: Maximum iterations (2000) reached and the optimization hasn't converged yet.\n",
      "  warnings.warn(\n"
     ]
    }
   ],
   "source": [
    "## One-line Neural Network\n",
    "neural_net = MLPRegressor(max_iter=2000).fit(data[:,:-1], data[:,-1])"
   ]
  },
  {
   "cell_type": "code",
   "execution_count": 29,
   "metadata": {},
   "outputs": [
    {
     "name": "stdout",
     "output_type": "stream",
     "text": [
      "[101.60239479]\n"
     ]
    }
   ],
   "source": [
    "## Result from inputs\n",
    "res = neural_net.predict([[90, 27]])\n",
    "print(res)"
   ]
  },
  {
   "cell_type": "code",
   "execution_count": 30,
   "metadata": {},
   "outputs": [
    {
     "name": "stdout",
     "output_type": "stream",
     "text": [
      "[53.2906531]\n"
     ]
    }
   ],
   "source": [
    "## Result from inputs\n",
    "res = neural_net.predict([[50, 24]])\n",
    "print(res)"
   ]
  },
  {
   "cell_type": "code",
   "execution_count": 31,
   "metadata": {},
   "outputs": [
    {
     "name": "stdout",
     "output_type": "stream",
     "text": [
      "[[48.   7.8  5. ]\n",
      " [56.  10.9 15. ]\n",
      " [61.  20.9 20. ]\n",
      " [41.  22.5 25. ]\n",
      " [34.  22.3 30. ]\n",
      " [48.  34.4 30. ]\n",
      " [41.  19.2 30. ]\n",
      " [41.  37.4 35. ]\n",
      " [48.  46.6 40. ]\n",
      " [30.  47.  40. ]\n",
      " [23.  63.3 50. ]\n",
      " [25.  63.6 50. ]\n",
      " [21.  56.6 55. ]\n",
      " [21.  79.6 65. ]\n",
      " [30.  57.3 65. ]\n",
      " [19.  82.7 65. ]\n",
      " [28.  71.4 70. ]\n",
      " [31.  58.4 70. ]\n",
      " [36.  70.  70. ]\n",
      " [28.  67.1 70. ]\n",
      " [27.  97.5 90. ]]\n"
     ]
    }
   ],
   "source": [
    "data = np.genfromtxt('phlebotomy2.csv', delimiter = ',', skip_header=1)\n",
    "print (data)"
   ]
  },
  {
   "cell_type": "code",
   "execution_count": 32,
   "metadata": {},
   "outputs": [
    {
     "name": "stderr",
     "output_type": "stream",
     "text": [
      "C:\\Users\\jwill\\anaconda3\\lib\\site-packages\\sklearn\\neural_network\\_multilayer_perceptron.py:582: ConvergenceWarning: Stochastic Optimizer: Maximum iterations (2000) reached and the optimization hasn't converged yet.\n",
      "  warnings.warn(\n"
     ]
    }
   ],
   "source": [
    "## One-line Neural Network\n",
    "neural_net = MLPRegressor(max_iter=2000).fit(data[:,:-1], data[:,-1])"
   ]
  },
  {
   "cell_type": "code",
   "execution_count": 36,
   "metadata": {},
   "outputs": [
    {
     "name": "stdout",
     "output_type": "stream",
     "text": [
      "[15.30887358]\n"
     ]
    }
   ],
   "source": [
    "## Resulting (task completion) from inputs (age, tech score)\n",
    "res = neural_net.predict([[27, 9]])\n",
    "print(res)"
   ]
  },
  {
   "cell_type": "code",
   "execution_count": null,
   "metadata": {},
   "outputs": [],
   "source": []
  }
 ],
 "metadata": {
  "kernelspec": {
   "display_name": "Python 3",
   "language": "python",
   "name": "python3"
  },
  "language_info": {
   "codemirror_mode": {
    "name": "ipython",
    "version": 3
   },
   "file_extension": ".py",
   "mimetype": "text/x-python",
   "name": "python",
   "nbconvert_exporter": "python",
   "pygments_lexer": "ipython3",
   "version": "3.8.5"
  }
 },
 "nbformat": 4,
 "nbformat_minor": 4
}
